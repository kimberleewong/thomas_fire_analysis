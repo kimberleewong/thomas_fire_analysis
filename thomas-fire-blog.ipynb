{
 "cells": [
  {
   "cell_type": "markdown",
   "id": "9ccc7d32-ec22-4516-904a-5d6deafcd2f5",
   "metadata": {},
   "source": [
    "# Thomas Fire Analysis \n",
    "\n",
    "### Author: Kimberlee Wong\n",
    "### Link to Website: https://kimberleewong.github.io/\n",
    "\n",
    "## About\n",
    "\n",
    "### Purpose\n",
    "The following analysis was done in two-fold. Its purpose is to get a better understanding of the 2017 Thomas Fire that affected Ventura and Santa Barbara Counties. The first part shows the process of producing a graph that shows how the average air quality was affected, and the second part visualizes the region of fire through a false imagery map. \n",
    "\n",
    "### Highlights\n",
    "\n",
    "- Using rioxr to import the landsat data and access its attribute\n",
    "- Visualizing both true and false color images\n",
    "- Combining two different datasets to make one map\n",
    "\n",
    "### About the Data\n",
    "\n",
    "The landsat data comes from Microsoft Planetary Computer Data Catalogue, and it is a simplified collection of colored bands. It was processed to remove data outside land and coarsen the spatial resolution. \n",
    "\n",
    "The Thomas Fire boundary was created in the previous notebook by filtering a California Fire perimeter file available from the US Government Data Catalogue.\n",
    "\n",
    "### References\n",
    "\n",
    "Microsoft Planetary Computer Data Catalogue, Landsat collection 2 Level-2 [Data file] Available from: https://planetarycomputer.microsoft.com/dataset/landsat-c2-l2. Access date: November 23, 2024.\n",
    "\n",
    "\n",
    "Data.gov Data Catalogue, California Fire Perimeters (all) [Data file] Available from: https://catalog.data.gov/dataset/california-fire-perimeters-all-b3436. Access date: November 23, 2024."
   ]
  },
  {
   "cell_type": "markdown",
   "id": "1fd59239-0463-415d-b931-9b99ab021eb5",
   "metadata": {},
   "source": [
    "## Import Libraries"
   ]
  },
  {
   "cell_type": "code",
   "execution_count": null,
   "id": "2654b1ea-41f5-418d-946b-06e937c12164",
   "metadata": {},
   "outputs": [],
   "source": [
    "import pandas as pd\n",
    "import geopandas as gpd\n",
    "import os\n",
    "import matplotlib.pyplot as plt\n",
    "import rioxarray as rioxr\n",
    "from shapely.geometry import box  # To create polygon bounding box\n",
    "\n",
    "pd.set_option(\"display.max.columns\", None) # To see all columns"
   ]
  },
  {
   "cell_type": "markdown",
   "id": "b0d8fc46-cb4b-47dc-b722-28a940ce9d43",
   "metadata": {},
   "source": [
    "## Load Data"
   ]
  },
  {
   "cell_type": "code",
   "execution_count": null,
   "id": "daf604c4-96f7-4fb5-b926-8132a737814d",
   "metadata": {},
   "outputs": [],
   "source": [
    "# 2017 and 2018 AQI Data\n",
    "aqi_17 = pd.read_csv('https://aqs.epa.gov/aqsweb/airdata/daily_aqi_by_county_2017.zip', compression = 'zip')\n",
    "aqi_18 = pd.read_csv('https://aqs.epa.gov/aqsweb/airdata/daily_aqi_by_county_2018.zip', compression = 'zip')"
   ]
  },
  {
   "cell_type": "code",
   "execution_count": null,
   "id": "0aa848e9-63eb-4fe4-8458-067cc21c7352",
   "metadata": {},
   "outputs": [],
   "source": [
    "\n",
    "\n",
    "# Read in data\n",
    "aqi_17 = pd.read_csv('https://aqs.epa.gov/aqsweb/airdata/daily_aqi_by_county_2017.zip', compression = 'zip')\n",
    "aqi_18 = pd.read_csv('https://aqs.epa.gov/aqsweb/airdata/daily_aqi_by_county_2018.zip', compression = 'zip')\n",
    "\n",
    "# Combine data into one dataframe\n",
    "aqi = pd.concat([aqi_17, aqi_18])\n",
    "\n",
    "# Wrangle data \n",
    "aqi.columns = (aqi.columns\n",
    "                  .str.lower()\n",
    "                  .str.replace(' ','_')\n",
    "                )\n",
    "\n",
    "aqi_sb = aqi[aqi['county_name'] == 'Santa Barbara'].drop(columns = ['state_name', 'county_name', 'state_code', 'county_code'])\n",
    "\n",
    "\n",
    "aqi_sb.date = pd.to_datetime(aqi_sb.date)\n",
    "\n",
    "aqi_sb = aqi_sb.set_index('date')\n",
    "\n",
    "aqi_sb['five_day_average'] = aqi_sb.rolling('5D').aqi.mean()   \n",
    "\n",
    "# Visualize it\n",
    "fig, ax = plt.subplots(figsize=(10, 6))\n",
    "\n",
    "ax.plot(aqi_sb.index, aqi_sb.aqi, label='Daily AQI')\n",
    "ax.plot(aqi_sb.index, aqi_sb.five_day_average, label='Five Day Average AQI')\n",
    "ax.set_xlabel('Date')\n",
    "ax.set_ylabel('AQI')\n",
    "ax.set_title('Daily and Five Day Average AQI Readings of Santa Barbara County from 2017 to 2018')\n",
    "ax.legend()"
   ]
  }
 ],
 "metadata": {
  "kernelspec": {
   "display_name": "Anaconda 3 (EDS220)",
   "language": "python",
   "name": "eds220-env"
  },
  "language_info": {
   "codemirror_mode": {
    "name": "ipython",
    "version": 3
   },
   "file_extension": ".py",
   "mimetype": "text/x-python",
   "name": "python",
   "nbconvert_exporter": "python",
   "pygments_lexer": "ipython3",
   "version": "3.11.4"
  }
 },
 "nbformat": 4,
 "nbformat_minor": 5
}
